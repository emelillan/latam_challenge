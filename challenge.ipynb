{
 "cells": [
  {
   "cell_type": "markdown",
   "metadata": {},
   "source": [
    "En este archivo puedes escribir lo que estimes conveniente. Te recomendamos detallar tu solución y todas las suposiciones que estás considerando. Aquí puedes ejecutar las funciones que definiste en los otros archivos de la carpeta src, medir el tiempo, memoria, etc."
   ]
  },
  {
   "cell_type": "code",
   "execution_count": 1,
   "metadata": {},
   "outputs": [],
   "source": [
    "import memory_profiler\n",
    "from src import q1_memory, q1_time, q2_memory, q2_time, q3_memory, q3_time"
   ]
  },
  {
   "cell_type": "code",
   "execution_count": 2,
   "metadata": {},
   "outputs": [],
   "source": [
    "%load_ext memory_profiler\n",
    "file_path = \"data/farmers-protest-tweets-2021-2-4.json\""
   ]
  },
  {
   "cell_type": "markdown",
   "metadata": {},
   "source": [
    "#### Q1 memory"
   ]
  },
  {
   "cell_type": "code",
   "execution_count": 7,
   "metadata": {},
   "outputs": [
    {
     "name": "stdout",
     "output_type": "stream",
     "text": [
      "Option 1\n",
      "peak memory: 144.03 MiB, increment: 23.45 MiB\n",
      "\n",
      "\n",
      "Option 2\n",
      "peak memory: 125.25 MiB, increment: 0.55 MiB\n",
      "\n",
      "\n",
      "Option 3\n",
      "peak memory: 184.81 MiB, increment: 60.75 MiB\n",
      "\n",
      "\n"
     ]
    }
   ],
   "source": [
    "for i in range(1, 4):\n",
    "    print(f\"Option {i}\")\n",
    "    %memit q1_memory.q1_memory(file_path, option=i)\n",
    "    q1_memory.q1_memory(file_path, option=i)\n",
    "    print(\"\\n\")"
   ]
  },
  {
   "cell_type": "markdown",
   "metadata": {},
   "source": [
    "##### La Opción 2 es la mejor elección porque:\n",
    "\n",
    "Tiene la memoria máxima más baja, lo que significa que usa la menor cantidad de memoria en general.\n",
    "Tiene el incremento más pequeño, lo que indica que se consume una cantidad mínima de memoria adicional durante la ejecución.\n",
    "\n",
    "* Descripción:\n",
    "Procesa el archivo JSON línea por línea, pero en lugar de almacenar todos los datos en una lista, cuenta las fechas y los usuarios directamente mientras lee el archivo.\n",
    "Utiliza un Counter para realizar un seguimiento del número de tweets por fecha y por usuario.\n",
    "\n",
    "\n",
    "\n",
    "* Uso de Memoria:\n",
    "Esta opción es mucho más eficiente en términos de memoria porque no almacena todos los datos en memoria simultáneamente. En su lugar, realiza el procesamiento sobre la marcha, lo que minimiza el uso de memoria."
   ]
  },
  {
   "cell_type": "code",
   "execution_count": 6,
   "metadata": {},
   "outputs": [
    {
     "data": {
      "text/plain": [
       "[(datetime.date(2021, 2, 12), 'RanbirS00614606'),\n",
       " (datetime.date(2021, 2, 13), 'MaanDee08215437'),\n",
       " (datetime.date(2021, 2, 14), 'rebelpacifist'),\n",
       " (datetime.date(2021, 2, 15), 'jot__b'),\n",
       " (datetime.date(2021, 2, 16), 'jot__b'),\n",
       " (datetime.date(2021, 2, 17), 'RaaJVinderkaur'),\n",
       " (datetime.date(2021, 2, 18), 'neetuanjle_nitu'),\n",
       " (datetime.date(2021, 2, 19), 'Preetm91'),\n",
       " (datetime.date(2021, 2, 20), 'MangalJ23056160'),\n",
       " (datetime.date(2021, 2, 23), 'Surrypuria')]"
      ]
     },
     "execution_count": 6,
     "metadata": {},
     "output_type": "execute_result"
    }
   ],
   "source": [
    "data = q1_memory(file_path, option=2)\n",
    "data"
   ]
  },
  {
   "cell_type": "markdown",
   "metadata": {},
   "source": [
    "#### Q1 time"
   ]
  },
  {
   "cell_type": "code",
   "execution_count": 3,
   "metadata": {},
   "outputs": [
    {
     "name": "stdout",
     "output_type": "stream",
     "text": [
      "Option 1\n",
      "2.55 s ± 23 ms per loop (mean ± std. dev. of 7 runs, 1 loop each)\n",
      "\n",
      "\n",
      "Option 2\n",
      "2.55 s ± 31.8 ms per loop (mean ± std. dev. of 7 runs, 1 loop each)\n",
      "\n",
      "\n",
      "Option 3\n",
      "3.52 s ± 282 ms per loop (mean ± std. dev. of 7 runs, 1 loop each)\n",
      "\n",
      "\n"
     ]
    }
   ],
   "source": [
    "for i in range(1, 4):\n",
    "    print(f\"Option {i}\")\n",
    "    %timeit q1_time.q1_time(file_path, option=i)\n",
    "    print(\"\\n\")"
   ]
  },
  {
   "cell_type": "markdown",
   "metadata": {},
   "source": [
    "La Opción 2 es ligeramente mejor porque utiliza numpy y Counter para manejar los cálculos de manera más directa y eficiente, lo que puede ser más escalable para conjuntos de datos más grandes. Además, la Opción 2 evita algunos de los costos de overhead asociados con las operaciones de pandas, lo que podría hacerla preferible en situaciones donde la estabilidad y la escalabilidad son importantes\n",
    "\n"
   ]
  },
  {
   "cell_type": "code",
   "execution_count": 4,
   "metadata": {},
   "outputs": [
    {
     "data": {
      "text/plain": [
       "[(datetime.date(2021, 2, 12), 'RanbirS00614606', np.int64(12347)),\n",
       " (datetime.date(2021, 2, 13), 'MaanDee08215437', np.int64(11296)),\n",
       " (datetime.date(2021, 2, 14), 'rebelpacifist', np.int64(10249)),\n",
       " (datetime.date(2021, 2, 15), 'jot__b', np.int64(9197)),\n",
       " (datetime.date(2021, 2, 16), 'jot__b', np.int64(10443)),\n",
       " (datetime.date(2021, 2, 17), 'RaaJVinderkaur', np.int64(11087)),\n",
       " (datetime.date(2021, 2, 18), 'neetuanjle_nitu', np.int64(9625)),\n",
       " (datetime.date(2021, 2, 19), 'Preetm91', np.int64(8204)),\n",
       " (datetime.date(2021, 2, 20), 'MangalJ23056160', np.int64(8502)),\n",
       " (datetime.date(2021, 2, 23), 'Surrypuria', np.int64(8417))]"
      ]
     },
     "execution_count": 4,
     "metadata": {},
     "output_type": "execute_result"
    }
   ],
   "source": [
    "q1_time.q1_time(file_path, option=2)"
   ]
  },
  {
   "cell_type": "markdown",
   "metadata": {},
   "source": [
    "### Q2 memory"
   ]
  },
  {
   "cell_type": "code",
   "execution_count": 3,
   "metadata": {},
   "outputs": [
    {
     "name": "stdout",
     "output_type": "stream",
     "text": [
      "peak memory: 115.62 MiB, increment: 3.16 MiB\n"
     ]
    }
   ],
   "source": [
    "%memit q2_memory.q2_memory(file_path)\n"
   ]
  },
  {
   "cell_type": "code",
   "execution_count": 4,
   "metadata": {},
   "outputs": [
    {
     "data": {
      "text/plain": [
       "[('🙏', 5049),\n",
       " ('😂', 3072),\n",
       " ('🚜', 2972),\n",
       " ('🌾', 2182),\n",
       " ('🇮🇳', 2086),\n",
       " ('🤣', 1668),\n",
       " ('✊', 1651),\n",
       " ('❤️', 1382),\n",
       " ('🙏🏻', 1317),\n",
       " ('💚', 1040)]"
      ]
     },
     "execution_count": 4,
     "metadata": {},
     "output_type": "execute_result"
    }
   ],
   "source": [
    "data = q2_memory.q2_memory(file_path)\n",
    "data"
   ]
  },
  {
   "cell_type": "markdown",
   "metadata": {},
   "source": [
    "### Q2 Time"
   ]
  },
  {
   "cell_type": "code",
   "execution_count": 3,
   "metadata": {},
   "outputs": [
    {
     "name": "stdout",
     "output_type": "stream",
     "text": [
      "2.23 s ± 168 ms per loop (mean ± std. dev. of 7 runs, 1 loop each)\n"
     ]
    }
   ],
   "source": [
    "%timeit q2_time.q2_time(file_path)"
   ]
  },
  {
   "cell_type": "code",
   "execution_count": 4,
   "metadata": {},
   "outputs": [
    {
     "data": {
      "text/plain": [
       "[('🙏', 5049),\n",
       " ('😂', 3072),\n",
       " ('🚜', 2972),\n",
       " ('🌾', 2182),\n",
       " ('🇮🇳', 2086),\n",
       " ('🤣', 1668),\n",
       " ('✊', 1651),\n",
       " ('❤️', 1382),\n",
       " ('🙏🏻', 1317),\n",
       " ('💚', 1040)]"
      ]
     },
     "execution_count": 4,
     "metadata": {},
     "output_type": "execute_result"
    }
   ],
   "source": [
    "data = q2_time.q2_time(file_path)\n",
    "data"
   ]
  },
  {
   "cell_type": "markdown",
   "metadata": {},
   "source": [
    "Este enfoque divide el archivo en fragmentos, procesa cada fragmento en paralelo para contar los emojis, y luego combina los resultados, lo que resulta en una ejecución más rápida, especialmente para archivos grandes.\n",
    "La idea era mostrar un enfoque distinto para resolver el problema, utilizando la programación paralela para mejorar el rendimiento."
   ]
  },
  {
   "cell_type": "markdown",
   "metadata": {},
   "source": [
    "### Q3 memory"
   ]
  },
  {
   "cell_type": "code",
   "execution_count": 3,
   "metadata": {},
   "outputs": [
    {
     "name": "stdout",
     "output_type": "stream",
     "text": [
      "peak memory: 115.53 MiB, increment: 3.02 MiB\n"
     ]
    }
   ],
   "source": [
    "%memit q3_memory.q3_memory(file_path)"
   ]
  },
  {
   "cell_type": "code",
   "execution_count": 4,
   "metadata": {},
   "outputs": [
    {
     "data": {
      "text/plain": [
       "[('narendramodi', 2261),\n",
       " ('Kisanektamorcha', 1836),\n",
       " ('RakeshTikaitBKU', 1639),\n",
       " ('PMOIndia', 1422),\n",
       " ('RahulGandhi', 1125),\n",
       " ('GretaThunberg', 1046),\n",
       " ('RaviSinghKA', 1015),\n",
       " ('rihanna', 972),\n",
       " ('UNHumanRights', 962),\n",
       " ('meenaharris', 925)]"
      ]
     },
     "execution_count": 4,
     "metadata": {},
     "output_type": "execute_result"
    }
   ],
   "source": [
    "data = q3_memory.q3_memory(file_path)\n",
    "data"
   ]
  },
  {
   "cell_type": "markdown",
   "metadata": {},
   "source": [
    "### Q3 time"
   ]
  },
  {
   "cell_type": "code",
   "execution_count": 3,
   "metadata": {},
   "outputs": [
    {
     "name": "stdout",
     "output_type": "stream",
     "text": [
      "2.16 s ± 38.1 ms per loop (mean ± std. dev. of 7 runs, 1 loop each)\n"
     ]
    }
   ],
   "source": [
    "%timeit q3_time.q3_time(file_path)"
   ]
  },
  {
   "cell_type": "code",
   "execution_count": 4,
   "metadata": {},
   "outputs": [
    {
     "data": {
      "text/plain": [
       "[('narendramodi', 2261),\n",
       " ('Kisanektamorcha', 1836),\n",
       " ('RakeshTikaitBKU', 1639),\n",
       " ('PMOIndia', 1422),\n",
       " ('RahulGandhi', 1125),\n",
       " ('GretaThunberg', 1046),\n",
       " ('RaviSinghKA', 1015),\n",
       " ('rihanna', 972),\n",
       " ('UNHumanRights', 962),\n",
       " ('meenaharris', 925)]"
      ]
     },
     "execution_count": 4,
     "metadata": {},
     "output_type": "execute_result"
    }
   ],
   "source": [
    "data = q3_time.q3_time(file_path)\n",
    "data"
   ]
  },
  {
   "cell_type": "markdown",
   "metadata": {},
   "source": [
    "\n",
    "# Consideraciones finales\n",
    "En lineas generales dependera del tamaño del input y los requeriementos de la solucion. En general para las soluciones de memoria se debera optar por procesamientos en cada linea para evitar cargar todos los datos en memoria. Para las soluciones de tiempo se debera optar por procesamientos en paralelo para mejorar el rendimiento, especialmente para archivos grandes. Tambien se debera tener en cuenta el uso de librerias como numpy, pandas o polars para mejorar el rendimiento de los calculos haciendo uso de la vectorizacion de operaciones. Esta ultima esta escrita en Rust lo cual hace que la performance sea muy buena.\n",
    "\n",
    "\n",
    "\n",
    "### Bonus Track\n",
    "Como bonus track dejare un ejemplo de implementacion en una Cloud Function de Google Cloud Platform. Esta implementacion cuenta con un CICD pipeline con Github Actions y un archivo \"sample\" de configuracion de Terraform para desplegar la infraestructura necesaria en GCP.\n",
    "\n"
   ]
  }
 ],
 "metadata": {
  "kernelspec": {
   "display_name": "env",
   "language": "python",
   "name": "python3"
  },
  "language_info": {
   "codemirror_mode": {
    "name": "ipython",
    "version": 3
   },
   "file_extension": ".py",
   "mimetype": "text/x-python",
   "name": "python",
   "nbconvert_exporter": "python",
   "pygments_lexer": "ipython3",
   "version": "3.9.6"
  },
  "orig_nbformat": 4
 },
 "nbformat": 4,
 "nbformat_minor": 2
}
